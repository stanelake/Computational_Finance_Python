{
 "cells": [
  {
   "cell_type": "markdown",
   "metadata": {},
   "source": [
    "# Generating Random numbers"
   ]
  },
  {
   "cell_type": "markdown",
   "metadata": {},
   "source": [
    "## Linear Congruentional Generators"
   ]
  },
  {
   "cell_type": "markdown",
   "metadata": {},
   "source": [
    "These generate a set of uniform values on $\\{0, 1, 2, 3, ..., m-1\\}$. A seed value of $X_0$ is provided and the next values are optained iteratively using the formula:\n",
    "$$X_{n+1}=aX_n+c \\textit{ mod }m$$\n",
    "If one desires to get values in the interval $[0, 1]$, one can divide the resultant data by m. While these may indeed be uniform variates, they are discrete."
   ]
  },
  {
   "cell_type": "code",
   "execution_count": 2,
   "metadata": {},
   "outputs": [],
   "source": [
    "import math\n",
    "\n",
    "def lin_cong_gen(n,a,c,m,x0):\n",
    "    \"\"\"Generate list of n unif dist RV\"\"\"\n",
    "    rnd_list=[None]*n\n",
    "    rnd_list[0]=(a*x0+c)%m\n",
    "    for i in range(1,n):\n",
    "        rnd_list[i]=(a*rnd_list[i-1]+c)%m\n",
    "    return rnd_list"
   ]
  },
  {
   "cell_type": "markdown",
   "metadata": {},
   "source": [
    "Lets obtain some data setting the number of desired data values to $n=10$ the constants fin the formula set as $a=11$ ,\n",
    "$c=-4$, $m=999$ and the seed value as $X_0=2000$."
   ]
  },
  {
   "cell_type": "code",
   "execution_count": 3,
   "metadata": {},
   "outputs": [
    {
     "data": {
      "text/plain": [
       "[18, 194, 132, 449, 939, 335, 684, 527, 798, 782]"
      ]
     },
     "execution_count": 3,
     "metadata": {},
     "output_type": "execute_result"
    }
   ],
   "source": [
    "n,a,c,m,x0=10,11,-4,999,2000\n",
    "l=lin_cong_gen(n,a,c,m,x0)\n",
    "l"
   ]
  },
  {
   "cell_type": "markdown",
   "metadata": {},
   "source": [
    "Dividing the list of values by $m$ scales to output to values on $[0,1]$ as follows:"
   ]
  },
  {
   "cell_type": "code",
   "execution_count": 4,
   "metadata": {},
   "outputs": [
    {
     "data": {
      "text/plain": [
       "[0.018018018018018018,\n",
       " 0.1941941941941942,\n",
       " 0.13213213213213212,\n",
       " 0.4494494494494494,\n",
       " 0.93993993993994,\n",
       " 0.3353353353353353,\n",
       " 0.6846846846846847,\n",
       " 0.5275275275275275,\n",
       " 0.7987987987987988,\n",
       " 0.7827827827827828]"
      ]
     },
     "execution_count": 4,
     "metadata": {},
     "output_type": "execute_result"
    }
   ],
   "source": [
    "for i in range(len(l)):\n",
    "    l[i]=l[i]/m\n",
    "l"
   ]
  },
  {
   "cell_type": "markdown",
   "metadata": {},
   "source": [
    "## Python Modules"
   ]
  },
  {
   "cell_type": "markdown",
   "metadata": {},
   "source": [
    "However, Python has inbuilt packages that are well able to produce pseudo-random numbers. The Scipy stats submodule enables us to generatenumpy arrays of random numbers of our choice. In addition, Numpy also has alternative functions which we include here in order to be as general as possible. This list is not exhaustive though."
   ]
  },
  {
   "cell_type": "code",
   "execution_count": 5,
   "metadata": {},
   "outputs": [
    {
     "data": {
      "text/plain": [
       "array([0.8500983 , 0.54453251, 0.82669015, 0.07988761, 0.69833311,\n",
       "       0.1906848 , 0.87541818, 0.45441273, 0.4197509 , 0.68136546])"
      ]
     },
     "execution_count": 5,
     "metadata": {},
     "output_type": "execute_result"
    }
   ],
   "source": [
    "from scipy.stats import uniform as u\n",
    "uni_array=u.rvs(size=10)\n",
    "\n",
    "uni_array"
   ]
  },
  {
   "cell_type": "code",
   "execution_count": 6,
   "metadata": {},
   "outputs": [
    {
     "data": {
      "text/plain": [
       "array([1.90776378, 2.51666751, 2.10365995, 2.97752046, 3.02555289,\n",
       "       0.56008051, 2.75656365, 2.1633808 , 1.17355407, 0.44612015])"
      ]
     },
     "execution_count": 6,
     "metadata": {},
     "output_type": "execute_result"
    }
   ],
   "source": [
    "import numpy as np\n",
    "\n",
    "u=np.random.uniform(0,math.pi,10)\n",
    "\n",
    "u"
   ]
  },
  {
   "cell_type": "markdown",
   "metadata": {},
   "source": [
    "## Inverse Trnsform Methods"
   ]
  },
  {
   "cell_type": "markdown",
   "metadata": {},
   "source": [
    "While we may have inbuilt Python modules to abtain random variables, we need to look at some methods known in literature to obtain some random variables. One of these methods is the inverse transform method as follows:\n",
    "\n",
    "Let the random variable (RV) $X$ have a probability distribution function (PDF) given by $f(x)$ defined on an interval $[a,b]$ and a cumulative distribution functio (CDF) \n",
    "$$F(x)=\\int_a^xf(t)dt.$$\n",
    "Assume also that $F(x)$ is invertible then, it follows thatfor some uniform random number $u$ the RV $X$ is given by\n",
    "$$X=F^{-1}(u).$$"
   ]
  },
  {
   "cell_type": "markdown",
   "metadata": {},
   "source": [
    "#### Example:\n",
    "Let us consider a simple example. Let X be an exponential random variable with a PDF $f(x)=\\lambda e^{-\\lambda x}$ defined on $\\mathbb{R}^+$ and CDF $F(x)= 1-e^{-\\lambda x}$. As a result, the inverse of the CDF is given as $F^{-1}(x)=-\\ln(1-x)/\\lambda$.\n",
    "\n",
    "The Python implementation is given below:"
   ]
  },
  {
   "cell_type": "code",
   "execution_count": 7,
   "metadata": {},
   "outputs": [],
   "source": [
    "def exp_RV(lam,n=1):\n",
    "    '''This function returns one exponentially distributed RV or an array of n values'''\n",
    "    if n==1:\n",
    "        u=np.random.uniform()\n",
    "        ex=-math.log(1-u)/lam\n",
    "    else:\n",
    "        u=np.random.uniform(0,1,n)\n",
    "        ex=-np.log(1-u)/lam\n",
    "    return ex"
   ]
  },
  {
   "cell_type": "code",
   "execution_count": 8,
   "metadata": {},
   "outputs": [
    {
     "data": {
      "text/plain": [
       "array([1.0910257 , 0.02718946, 0.51008412, 0.28703192])"
      ]
     },
     "execution_count": 8,
     "metadata": {},
     "output_type": "execute_result"
    }
   ],
   "source": [
    "rr=exp_RV(2.1,4)\n",
    "rr"
   ]
  },
  {
   "cell_type": "code",
   "execution_count": 10,
   "metadata": {},
   "outputs": [
    {
     "data": {
      "image/png": "[encoded data removed]",
      "text/plain": [
       "<Figure size 432x288 with 1 Axes>"
      ]
     },
     "metadata": {},
     "output_type": "display_data"
    }
   ],
   "source": [
    "exp_arr=exp_RV(1.2,200000)\n",
    "\n",
    "import matplotlib.pyplot as plt\n",
    "\n",
    "bins = np.linspace(math.ceil(min(exp_arr)), \n",
    "                   math.floor(max(exp_arr)),\n",
    "                   200) # fixed number of bins\n",
    "\n",
    "\n",
    "plt.hist(exp_arr,bins=bins)\n",
    "plt.title('Random Exponential Variates, $\\lambda = 1.2$')\n",
    "plt.xlabel('Variable X')\n",
    "plt.ylabel('Count')\n",
    "\n",
    "plt.show()"
   ]
  },
  {
   "cell_type": "markdown",
   "metadata": {},
   "source": [
    "## Rejection Method:"
   ]
  },
  {
   "cell_type": "markdown",
   "metadata": {},
   "source": [
    "In some cases, the CDF is not invertible or may require numeriacl ethods to invert. In this case we opt for the \"Acceptance-Rejection\" methods.\n",
    "\n",
    "First we will explain the logic from a lay person's point of view.\n",
    "\n",
    "Let $X$ be the RV we would like to sample with PDF $f(x)$ and suppose $Y$ is an RV PDF $g(y)$ that satisfies the following properties:\n",
    "\n",
    "1. the distributions of $X$ and $Y$ need to overlap\n",
    "2. the distribution of $Y$ should be easy to compute\n",
    "3. The disctributions of $X$ and $Y$ should be close to each other such that $\\forall x$\n",
    "$$\\frac{f(x)}{g(x)}\\leq c$$\n",
    "for some $c$.\n",
    "\n",
    "NB: we desire to hace $c$ as close to 1 as possible.\n",
    "\n"
   ]
  },
  {
   "cell_type": "markdown",
   "metadata": {},
   "source": [
    "#### Algorithm:\n",
    "\n",
    "1. Generate a uniform random number on $[0,1]$.\n",
    "2. Generate the RV $Y$.\n",
    "3. A. If $u<{f(x)}/c{g(x)}$, then set X=Y\n",
    "   B. Else, reject and return to 1."
   ]
  },
  {
   "cell_type": "markdown",
   "metadata": {},
   "source": [
    "#### Remarks:\n",
    "The choice of the pair $X$ and $Y$ is important. \n",
    "Let N be number of times the algorithm is applied before a value is accepted. N follows a Geometric distribution with probability of success $P(Success)=p$. In addition, the probability of running the algorithm $k\\geq 1$ times before success, then $P(N=k)=(1-p)^{k-1}p$.\n",
    "\n",
    "Also, the average number of times is $1/p$ and in particular $p=1/c$.\n"
   ]
  },
  {
   "cell_type": "markdown",
   "metadata": {},
   "source": [
    "#### Example:\n",
    "\n",
    "Lets generate some normal $X$ by applying the Acceptance-Rejection method with the exponential distribution."
   ]
  },
  {
   "cell_type": "code",
   "execution_count": 11,
   "metadata": {},
   "outputs": [],
   "source": [
    "def norm_pdf(z):\n",
    "    '''Normal distribution PDF'''\n",
    "    r=2*np.exp(-z*z/2)/np.sqrt(2*np.pi)\n",
    "    return r"
   ]
  },
  {
   "cell_type": "code",
   "execution_count": 12,
   "metadata": {},
   "outputs": [],
   "source": [
    "data_size=20000\n",
    "norm_array=[None]*data_size\n",
    "landa=1.1\n",
    "count = 0\n",
    "c=math.sqrt(2*math.exp(landa)/math.pi)\n",
    "\n",
    "while count<data_size:\n",
    "    unif1=np.random.uniform()\n",
    "    unif2=np.random.uniform()\n",
    "    exp_val=exp_RV(landa,1)\n",
    "    norm_val=norm_pdf(exp_val)\n",
    "    if unif1<norm_val/(c*exp_val):\n",
    "        unif3=np.random.uniform()\n",
    "        if unif3<0.5:\n",
    "            norm_array[count]=exp_val\n",
    "        else:\n",
    "            norm_array[count]=-exp_val\n",
    "        count+=1\n",
    "    else:\n",
    "        continue"
   ]
  },
  {
   "cell_type": "code",
   "execution_count": 13,
   "metadata": {},
   "outputs": [],
   "source": [
    "import scipy.stats as dist "
   ]
  },
  {
   "cell_type": "code",
   "execution_count": 14,
   "metadata": {
    "scrolled": true
   },
   "outputs": [
    {
     "data": {
      "image/png": "[encoded data removed]",
      "text/plain": [
       "<Figure size 432x288 with 1 Axes>"
      ]
     },
     "metadata": {},
     "output_type": "display_data"
    }
   ],
   "source": [
    "bins = np.linspace(math.ceil(min(norm_array)), \n",
    "                   math.floor(max(norm_array)),\n",
    "                   200) # fixed number of bins\n",
    "\n",
    "mean, var  = dist.distributions.norm.fit(norm_array)\n",
    "\n",
    "\n",
    "x = np.linspace(min(norm_array),max(norm_array),100)\n",
    "\n",
    "\n",
    "fitted_data = dist.distributions.norm.pdf(x, mean, var)\n",
    "plt.hist(norm_array,bins=bins,density=True)\n",
    "plt.plot(x,fitted_data,'r-')\n",
    "plt.title('Random Gaussian data (Acceptance/Rejection)')\n",
    "plt.xlabel('Variable X ')\n",
    "plt.ylabel('Relative Dist')\n",
    "\n",
    "plt.show()"
   ]
  },
  {
   "cell_type": "markdown",
   "metadata": {},
   "source": [
    "For the sake of comparison. Lests use Scipy once again and compare with the previous plot."
   ]
  },
  {
   "cell_type": "code",
   "execution_count": 15,
   "metadata": {},
   "outputs": [],
   "source": [
    "norm_arr2=dist.norm.rvs(size=data_size)"
   ]
  },
  {
   "cell_type": "code",
   "execution_count": 16,
   "metadata": {},
   "outputs": [
    {
     "data": {
      "image/png": "[encoded data removed]",
      "text/plain": [
       "<Figure size 432x288 with 1 Axes>"
      ]
     },
     "metadata": {},
     "output_type": "display_data"
    }
   ],
   "source": [
    "bins = np.linspace(math.ceil(min(norm_arr2)), \n",
    "                   math.floor(max(norm_arr2)),\n",
    "                   200) # fixed number of bins\n",
    "\n",
    "mean, var  = dist.distributions.norm.fit(norm_arr2)\n",
    "\n",
    "\n",
    "x = np.linspace(min(norm_arr2),max(norm_arr2),100)\n",
    "\n",
    "\n",
    "fitted_data = dist.distributions.norm.pdf(x, mean, var)\n",
    "plt.hist(norm_arr2,bins=bins,density=True)\n",
    "plt.plot(x,fitted_data,'r-')\n",
    "plt.title('Random Gaussian data (Scipy)')\n",
    "plt.xlabel('Variable X ')\n",
    "plt.ylabel('Relative Dist')\n",
    "\n",
    "plt.show()"
   ]
  },
  {
   "cell_type": "markdown",
   "metadata": {},
   "source": [
    "## Conclusion:\n",
    "In conclusion, we have taken a whirlwind survey on some methods on how to generate RV. \n",
    "\n",
    "1. Linear Gongruential Generatos\n",
    "2. Inverse Transform methods\n",
    "3. Acceptance rejection metjods\n",
    "4. Python predefined functions (Numpy and Scipy)\n",
    "\n",
    "Looking at the last two plots, it appears that the inbuilt packages give a better \"visual\" fit to the distribtion."
   ]
  },
  {
   "cell_type": "code",
   "execution_count": null,
   "metadata": {},
   "outputs": [],
   "source": []
  }
 ],
 "metadata": {
  "kernelspec": {
   "display_name": "Python 3",
   "language": "python",
   "name": "python3"
  },
  "language_info": {
   "codemirror_mode": {
    "name": "ipython",
    "version": 3
   },
   "file_extension": ".py",
   "mimetype": "text/x-python",
   "name": "python",
   "nbconvert_exporter": "python",
   "pygments_lexer": "ipython3",
   "version": "3.6.5"
  }
 },
 "nbformat": 4,
 "nbformat_minor": 2
}
